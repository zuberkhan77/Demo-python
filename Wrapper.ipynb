{
 "cells": [
  {
   "cell_type": "code",
   "execution_count": 2,
   "id": "b72b5fcf-4acd-46a2-93e7-fbb25ddbcb77",
   "metadata": {},
   "outputs": [],
   "source": [
    "import time                   #result will be of no output of this code \n",
    "n = 1000000\n",
    "\n",
    "#def testfn(n):\n",
    "    #for i in range (0,n):\n",
    "        #res  = i*10\n",
    "\n",
    "def wrapper_fn(func,*args,**kwargs):\n",
    "    def wrapped(*agrs,**kwargs):\n",
    "        start_time = time.time()*1000\n",
    "        func(*args,**kwargs)\n",
    "        \n",
    "        end_time =  time.time()*1000\n",
    "        diff= end_time - start_time\n",
    "        \n",
    "        print(f\"execution time for n = {n} is \\n {diff} milli sec\")\n",
    "    \n",
    "    return(wrapped)\n",
    "\n",
    "#@wrapper_fn \n",
    "def testfn(n):\n",
    "    for i in range(0,n):\n",
    "        res = i * 10\n",
    "        \n",
    "\n",
    "# newwrapperfn = wrapper(testfn,n)\n",
    "# newwrapperfn(n)\n",
    "@wrapper_fn\n",
    "def testfn2(n):\n",
    "    for i in range(0,n):\n",
    "        res = i * 1 \n",
    "    print(res)\n",
    "\n",
    "testfn(n)"
   ]
  }
 ],
 "metadata": {
  "kernelspec": {
   "display_name": "Python 3 (ipykernel)",
   "language": "python",
   "name": "python3"
  },
  "language_info": {
   "codemirror_mode": {
    "name": "ipython",
    "version": 3
   },
   "file_extension": ".py",
   "mimetype": "text/x-python",
   "name": "python",
   "nbconvert_exporter": "python",
   "pygments_lexer": "ipython3",
   "version": "3.12.4"
  }
 },
 "nbformat": 4,
 "nbformat_minor": 5
}
