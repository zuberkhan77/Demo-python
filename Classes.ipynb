{
 "cells": [
  {
   "cell_type": "markdown",
   "metadata": {},
   "source": [
    "CLASS in PYTHON"
   ]
  },
  {
   "cell_type": "code",
   "execution_count": 7,
   "metadata": {},
   "outputs": [],
   "source": [
    "class Dog:\n",
    "\n",
    "    # Class attribute (shared by all instances)\n",
    "    species = \"Canis familiaris\"\n",
    "    \n",
    "    # Constructor (initializer)\n",
    "    def __init__(self, name, age):\n",
    "        # Instance attributes (unique to each instance)\n",
    "        self.name = name\n",
    "        self.age = age\n",
    "    \n",
    "    # Instance method\n",
    "    def bark(self):\n",
    "        return f\"{self.name} says woof!\"\n",
    "    \n",
    "    # Another instance method\n",
    "    def get_age(self):\n",
    "        return f\"{self.name} is {self.age} years old.\""
   ]
  },
  {
   "cell_type": "code",
   "execution_count": 8,
   "metadata": {},
   "outputs": [],
   "source": [
    "# Creating instances (objects) of the Dog class      #Buddy says woof  \n",
    "dog1 = Dog(\"Buddy\", 3)\n",
    "dog2 = Dog(\"Charlie\", 5)#Accessing attributes and methods\n"
   ]
  },
  {
   "cell_type": "code",
   "execution_count": 9,
   "metadata": {},
   "outputs": [
    {
     "data": {
      "text/plain": [
       "'Charlie is 5 years old.'"
      ]
     },
     "execution_count": 9,
     "metadata": {},
     "output_type": "execute_result"
    }
   ],
   "source": [
    "dog1.bark()\n",
    "dog2.get_age()"
   ]
  },
  {
   "cell_type": "code",
   "execution_count": null,
   "metadata": {},
   "outputs": [],
   "source": []
  }
 ],
 "metadata": {
  "kernelspec": {
   "display_name": "Python 3",
   "language": "python",
   "name": "python3"
  },
  "language_info": {
   "codemirror_mode": {
    "name": "ipython",
    "version": 3
   },
   "file_extension": ".py",
   "mimetype": "text/x-python",
   "name": "python",
   "nbconvert_exporter": "python",
   "pygments_lexer": "ipython3",
   "version": "3.12.4"
  }
 },
 "nbformat": 4,
 "nbformat_minor": 2
}
