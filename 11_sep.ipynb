{
 "cells": [
  {
   "cell_type": "code",
   "execution_count": 1,
   "metadata": {},
   "outputs": [
    {
     "name": "stdout",
     "output_type": "stream",
     "text": [
      "hello, Zuber khan!\n"
     ]
    }
   ],
   "source": [
    "def greet(name):\n",
    "\n",
    "    \"\"\"Greets a person by their name.\"\"\" ##be inside the function .. don't be outside the function \n",
    "    return print(f\"hello, {name}!\") #calling the function\n",
    "\n",
    "greet(\"Zuber khan\")"
   ]
  },
  {
   "cell_type": "code",
   "execution_count": 2,
   "metadata": {},
   "outputs": [
    {
     "data": {
      "text/plain": [
       "(7, 7)"
      ]
     },
     "execution_count": 2,
     "metadata": {},
     "output_type": "execute_result"
    }
   ],
   "source": [
    "a=6  # 1 1 0\n",
    "b=1  # 0 0 1 \n",
    "c= a | b # 1 1 1 \n",
    "d = a ^ b # xor\n",
    "c,d"
   ]
  },
  {
   "cell_type": "code",
   "execution_count": 3,
   "metadata": {},
   "outputs": [],
   "source": [
    "def showDetails(*args):\n",
    "    for i in range(len(args)):\n",
    "        variable = args[i]\n",
    "        print(f\"The Value of { i+1 } variable is \\t{variable }\\t its id is \\t {id(variable)}\")\n",
    "    \n",
    "    print(\"\\n\\n\")"
   ]
  },
  {
   "cell_type": "code",
   "execution_count": 4,
   "metadata": {},
   "outputs": [
    {
     "name": "stdout",
     "output_type": "stream",
     "text": [
      "The Value of 1 variable is \t[2, 4, 6, [1, 3]]\t its id is \t 1340912562688\n",
      "The Value of 2 variable is \t[2, 4, 6, [1, 3]]\t its id is \t 1340912963264\n",
      "\n",
      "\n",
      "\n",
      "The Value of 1 variable is \t[2, 4, 6, [10, 3]]\t its id is \t 1340912562688\n",
      "The Value of 2 variable is \t[2, 44, 6, [10, 3]]\t its id is \t 1340912963264\n",
      "\n",
      "\n",
      "\n"
     ]
    },
    {
     "data": {
      "text/plain": [
       "3"
      ]
     },
     "execution_count": 4,
     "metadata": {},
     "output_type": "execute_result"
    }
   ],
   "source": [
    "import copy                        #Shallow Copy \n",
    "listA = [2, 4, 6, [1, 3]]\n",
    "listB = copy.copy(listA)\n",
    "\n",
    "showDetails(listA,listB)\n",
    "listB[1] = 44\n",
    "listB[3][0] = 10\n",
    "showDetails(listA,listB)\n",
    "listA[3][1]"
   ]
  },
  {
   "cell_type": "code",
   "execution_count": 5,
   "metadata": {},
   "outputs": [
    {
     "name": "stdout",
     "output_type": "stream",
     "text": [
      "The Value of 1 variable is \t[2, 4, 6, [1, 3]]\t its id is \t 1340912964992\n",
      "The Value of 2 variable is \t[2, 4, 6, [1, 3]]\t its id is \t 1340912964992\n",
      "\n",
      "\n",
      "\n",
      "The Value of 1 variable is \t[2, 44, 6, [1, 3]]\t its id is \t 1340912964992\n",
      "The Value of 2 variable is \t[2, 44, 6, [1, 3]]\t its id is \t 1340912964992\n",
      "\n",
      "\n",
      "\n",
      "The Value of 1 variable is \t[2, 44, 6, [1, 10]]\t its id is \t 1340912964992\n",
      "The Value of 2 variable is \t[2, 44, 6, [1, 10]]\t its id is \t 1340912964992\n",
      "\n",
      "\n",
      "\n"
     ]
    }
   ],
   "source": [
    "listA = [2, 4, 6, [1, 3]]\n",
    "listB = listA\n",
    "showDetails(listA,listB)\n",
    "listB[1] = 44\n",
    "\n",
    "showDetails(listA,listB)\n",
    "listB[3][1] = 10\n",
    "\n",
    "\n",
    "showDetails(listA,listB)"
   ]
  },
  {
   "cell_type": "code",
   "execution_count": 6,
   "metadata": {},
   "outputs": [
    {
     "name": "stdout",
     "output_type": "stream",
     "text": [
      "The Value of 1 variable is \t[2, 4, 6, [1, 3]]\t its id is \t 1340912460864\n",
      "The Value of 2 variable is \t[2, 4, 6, [1, 3]]\t its id is \t 1340912964736\n",
      "\n",
      "\n",
      "\n",
      "The Value of 1 variable is \t[2, 4, 6, [1, 3]]\t its id is \t 1340912460864\n",
      "The Value of 2 variable is \t[2, 44, 6, [55, 3]]\t its id is \t 1340912964736\n",
      "\n",
      "\n",
      "\n"
     ]
    }
   ],
   "source": [
    "import copy\n",
    "listA = [2, 4, 6, [1, 3]]\n",
    "listB = copy.deepcopy(listA)\n",
    "showDetails(listA,listB)\n",
    "listB[1] = 44\n",
    "listB[3][0] = 55\n",
    "showDetails(listA,listB)"
   ]
  },
  {
   "cell_type": "code",
   "execution_count": 7,
   "metadata": {},
   "outputs": [
    {
     "name": "stdout",
     "output_type": "stream",
     "text": [
      "hello, Zuber Khan!\n"
     ]
    }
   ],
   "source": [
    "def greet(name):\n",
    "\n",
    "    \"\"\"Greets a person by their name.\"\"\" ##be inside the function .. don't be outside the function \n",
    "    return print(f\"hello, {name}!\") #calling the function\n",
    "\n",
    "greet(\"Zuber Khan\")"
   ]
  },
  {
   "cell_type": "code",
   "execution_count": 8,
   "metadata": {},
   "outputs": [
    {
     "name": "stdout",
     "output_type": "stream",
     "text": [
      "the sum of 5 and 3 is: 8\n"
     ]
    }
   ],
   "source": [
    "def add_two_values(a,b):\n",
    "    return a + b\n",
    "\n",
    "#using the function and printing the result \n",
    "result = add_two_values(5 , 3)\n",
    "print(\"the sum of 5 and 3 is:\", result)"
   ]
  },
  {
   "cell_type": "code",
   "execution_count": 9,
   "metadata": {},
   "outputs": [],
   "source": [
    "#Modifying Global Variable \n",
    "counter = 0\n",
    "\n",
    "\n",
    "def increment():\n",
    "    global counter\n",
    "    counter += 1"
   ]
  },
  {
   "cell_type": "code",
   "execution_count": 10,
   "metadata": {},
   "outputs": [],
   "source": [
    "#Behaviour Of Mutable and Immutable Arguments \n",
    "def modify_immutable(x):\n",
    "      x += 1\n",
    "      print(f\"Inside function: {x}\")\n",
    "      "
   ]
  },
  {
   "cell_type": "code",
   "execution_count": 11,
   "metadata": {},
   "outputs": [
    {
     "name": "stdout",
     "output_type": "stream",
     "text": [
      "Inside function: 6\n",
      "Outside function: 5\n"
     ]
    }
   ],
   "source": [
    "a = 5\n",
    "modify_immutable(a)\n",
    "print(f\"Outside function: {a}\")"
   ]
  },
  {
   "cell_type": "markdown",
   "metadata": {},
   "source": [
    " Function and Object Identity ( before and after Modification )"
   ]
  },
  {
   "cell_type": "code",
   "execution_count": 12,
   "metadata": {},
   "outputs": [
    {
     "name": "stdout",
     "output_type": "stream",
     "text": [
      "Before: 140719646938024\n",
      "After: 140719646938056\n"
     ]
    }
   ],
   "source": [
    "def modify(x):\n",
    "      print(f\"Before: {id(x)}\")\n",
    "      x += 1\n",
    "      print(f\"After: {id(x)}\")\n",
    "a = 5\n",
    "modify(a)"
   ]
  },
  {
   "cell_type": "code",
   "execution_count": 13,
   "metadata": {},
   "outputs": [
    {
     "name": "stdout",
     "output_type": "stream",
     "text": [
      "Inside function: [1, 2, 3, 4]\n",
      "Outside function: [1, 2, 3, 4]\n"
     ]
    }
   ],
   "source": [
    "def modify_mutable(lst):\n",
    "      lst.append(4)\n",
    "      print(f\"Inside function: {lst}\")\n",
    "my_list = [1, 2, 3]\n",
    "modify_mutable(my_list)\n",
    "print(f\"Outside function: {my_list}\")"
   ]
  },
  {
   "cell_type": "code",
   "execution_count": 14,
   "metadata": {},
   "outputs": [
    {
     "name": "stdout",
     "output_type": "stream",
     "text": [
      "25\n",
      "16\n"
     ]
    }
   ],
   "source": [
    "def square(x) :\n",
    "    return x * x\n",
    "   \n",
    "f = square\n",
    "print(f(5))  # Output: 25Passing a function as an argument\n",
    "\n",
    "\n",
    "def apply_function(func, value):\n",
    "    return func(value)\n",
    "\n",
    "\n",
    "\n",
    "result = apply_function(square, 4)\n",
    "print(result)\n",
    "\n"
   ]
  },
  {
   "cell_type": "markdown",
   "metadata": {},
   "source": [
    "Passing functions to functions "
   ]
  },
  {
   "cell_type": "markdown",
   "metadata": {},
   "source": [
    "Introduction to Args and Kwargs ( using Args )"
   ]
  },
  {
   "cell_type": "code",
   "execution_count": 15,
   "metadata": {},
   "outputs": [
    {
     "name": "stdout",
     "output_type": "stream",
     "text": [
      "1\n",
      "2\n",
      "3\n",
      "4\n",
      "5\n"
     ]
    }
   ],
   "source": [
    "def print_numbers(*args):\n",
    "\n",
    "    \"\"\"Prints each number passed as an argument.\"\"\"\n",
    "    for number in args:\n",
    "               print(number) #Calling the function with multiple arguments\n",
    "\n",
    "\n",
    "print_numbers(1, 2, 3, 4, 5)"
   ]
  },
  {
   "cell_type": "markdown",
   "metadata": {},
   "source": [
    "Using KWARGS"
   ]
  },
  {
   "cell_type": "code",
   "execution_count": 16,
   "metadata": {},
   "outputs": [
    {
     "name": "stdout",
     "output_type": "stream",
     "text": [
      "name: Alice\n",
      "age: 30\n",
      "city: New York\n"
     ]
    }
   ],
   "source": [
    "def print_key_values(**kwargs):\n",
    "\n",
    "    \"\"\"Prints each key-value pair passed as keyword arguments.\"\"\"\n",
    "    for key, value in kwargs.items():\n",
    "        print(f\"{key}: {value}\") #Calling the function with keyword arguments\n",
    "\n",
    "\n",
    "print_key_values(name=\"Alice\", age=30, city=\"New York\")"
   ]
  },
  {
   "cell_type": "markdown",
   "metadata": {},
   "source": [
    "( Combining Args and Kwargs )"
   ]
  },
  {
   "cell_type": "code",
   "execution_count": 17,
   "metadata": {},
   "outputs": [
    {
     "name": "stdout",
     "output_type": "stream",
     "text": [
      "Hello, Alice!\n",
      "Hello, Bob!\n",
      "age: 25\n",
      "city: New York\n"
     ]
    }
   ],
   "source": [
    "def greet(*args, **kwargs):\n",
    "\n",
    "    \"\"\"Greets people and provides additional information.\"\"\"\n",
    "    for name in args:\n",
    "        print(f\"Hello, {name}!\")\n",
    "    \n",
    "    for key, value in kwargs.items():\n",
    "        print(f\"{key}: {value}\")#Calling the function with both positional and keyword arguments\n",
    "\n",
    "\n",
    "greet(\"Alice\", \"Bob\", age=25, city=\"New York\")"
   ]
  },
  {
   "cell_type": "markdown",
   "metadata": {},
   "source": [
    "Mapping Functions In A Dictionary "
   ]
  },
  {
   "cell_type": "code",
   "execution_count": 18,
   "metadata": {},
   "outputs": [
    {
     "name": "stdout",
     "output_type": "stream",
     "text": [
      "{'add': <function add at 0x0000013834A4ACA0>, 'subtract': <function subtract at 0x0000013834A4ADE0>}\n"
     ]
    }
   ],
   "source": [
    "def add(a, b):\n",
    "    a = 12 \n",
    "    b = 3 \n",
    "\n",
    "    return a + b\n",
    "\n",
    "def subtract(a, b):\n",
    "    return a - b\n",
    "\n",
    "operations = {\n",
    "    \"add\": add,\n",
    "    \"subtract\": subtract\n",
    "}#Selecting and executing a function from the dictionary\n",
    "\n",
    "\n",
    "operation = \"add\"\n",
    "result = operations\n",
    "print(result)  # Output: 15"
   ]
  },
  {
   "cell_type": "code",
   "execution_count": 19,
   "metadata": {},
   "outputs": [
    {
     "name": "stdout",
     "output_type": "stream",
     "text": [
      "10\n",
      "15\n"
     ]
    }
   ],
   "source": [
    "def double(x):\n",
    "\n",
    "    return x * 2\n",
    "def triple(x):\n",
    "    return x * 3\n",
    "def apply_operation(func, number):\n",
    "    return func(number)\n",
    "print(apply_operation(double, 5))  # Output: 10\n",
    "print(apply_operation(triple, 5))  # Output: 15"
   ]
  },
  {
   "cell_type": "code",
   "execution_count": 20,
   "metadata": {},
   "outputs": [
    {
     "name": "stdout",
     "output_type": "stream",
     "text": [
      "8\n"
     ]
    }
   ],
   "source": [
    "# Lambda function to add two numbers\n",
    "\n",
    "add = lambda a, b: a + b\n",
    "print(add(3, 5))"
   ]
  },
  {
   "cell_type": "code",
   "execution_count": 21,
   "metadata": {},
   "outputs": [
    {
     "name": "stdout",
     "output_type": "stream",
     "text": [
      "[1, 4, 9, 16]\n"
     ]
    }
   ],
   "source": [
    "numbers = [1, 2, 3, 4]\n",
    "squared = map(lambda x: x * x, numbers)\n",
    "print(list(squared)) "
   ]
  },
  {
   "cell_type": "code",
   "execution_count": 22,
   "metadata": {},
   "outputs": [
    {
     "name": "stdout",
     "output_type": "stream",
     "text": [
      "[1, 4, 9, 16, 25]\n",
      "[2, 4]\n"
     ]
    }
   ],
   "source": [
    "# Using map to square each number in a list \n",
    "\n",
    "numbers = [1 , 2 , 3 , 4 , 5]\n",
    "squared = map(lambda x: x * x, numbers)\n",
    "print(list(squared)) \n",
    "\n",
    "even_numbers = filter(lambda x: x % 2 == 0, numbers) # Conditional operator used here \" == \" \n",
    "print(list(even_numbers))"
   ]
  },
  {
   "cell_type": "markdown",
   "metadata": {},
   "source": [
    "Passing arguments to functions in python "
   ]
  },
  {
   "cell_type": "code",
   "execution_count": 23,
   "metadata": {},
   "outputs": [
    {
     "name": "stdout",
     "output_type": "stream",
     "text": [
      "Hello, Alice! Welcome to the team!\n"
     ]
    }
   ],
   "source": [
    "def greet(name, message):\n",
    "         return f\"Hello, {name}! {message}\"\n",
    "print(greet(\"Alice\", \"Welcome to the team!\"))"
   ]
  },
  {
   "cell_type": "markdown",
   "metadata": {},
   "source": [
    "Default Arguments "
   ]
  },
  {
   "cell_type": "code",
   "execution_count": 24,
   "metadata": {},
   "outputs": [
    {
     "name": "stdout",
     "output_type": "stream",
     "text": [
      "Hello, Alice! Welcome!\n",
      "Hello, Bob! Good to see you!\n"
     ]
    }
   ],
   "source": [
    "def greet(name, message=\"Welcome!\"):\n",
    "         return f\"Hello, {name}! {message}\"\n",
    "print(greet(\"Alice\"))  # Uses default message\n",
    "print(greet(\"Bob\", \"Good to see you!\"))  # Overrides default"
   ]
  },
  {
   "cell_type": "markdown",
   "metadata": {},
   "source": [
    "Arbitrary Positional Arguments "
   ]
  },
  {
   "cell_type": "code",
   "execution_count": 25,
   "metadata": {},
   "outputs": [
    {
     "name": "stdout",
     "output_type": "stream",
     "text": [
      "Hello, Alice!\n",
      "Hello, Bob!\n",
      "Hello, Charlie!\n"
     ]
    }
   ],
   "source": [
    "def greet(*names):\n",
    "         for name in names:\n",
    "             print(f\"Hello, {name}!\")\n",
    "greet(\"Alice\", \"Bob\", \"Charlie\")"
   ]
  },
  {
   "cell_type": "markdown",
   "metadata": {},
   "source": [
    "Arbitrary Keyword Arguments "
   ]
  },
  {
   "cell_type": "code",
   "execution_count": 26,
   "metadata": {},
   "outputs": [
    {
     "name": "stdout",
     "output_type": "stream",
     "text": [
      "name: Alice\n",
      "age: 30\n",
      "job: Engineer\n"
     ]
    }
   ],
   "source": [
    "def describe_person(**info):\n",
    "         for key, value in info.items():\n",
    "             print(f\"{key}: {value}\")\n",
    "describe_person(name=\"Alice\", age=30, job=\"Engineer\")"
   ]
  },
  {
   "cell_type": "markdown",
   "metadata": {},
   "source": [
    "Returning values from functions and Multiple values "
   ]
  },
  {
   "cell_type": "code",
   "execution_count": 27,
   "metadata": {},
   "outputs": [
    {
     "name": "stdout",
     "output_type": "stream",
     "text": [
      "8\n",
      "2 1\n"
     ]
    }
   ],
   "source": [
    "def add(a, b):\n",
    "\n",
    "    return a + b\n",
    "result = add(5, 3)\n",
    "print(result)  # Output: 8\n",
    "\n",
    "def swap(a, b):\n",
    "\n",
    "    return b, a\n",
    "x, y = swap(1, 2)\n",
    "print(x, y)  # Output: 2 1"
   ]
  },
  {
   "cell_type": "code",
   "execution_count": 28,
   "metadata": {},
   "outputs": [],
   "source": [
    "# write a program that takes\n",
    "# list of sap ids and returns a list of email addresses \n",
    "\n",
    "#input \n",
    "# list = [123,\"234\"]\n",
    "#output\n",
    "# result = [\"123@stu.upes.ac.in\",\"234@stu.upes.ac.in\"]\n",
    "\n",
    "#1 without using map, filter lambda or list comprehension \n",
    "#2 using map. filter, lambda without using list comprehension \n",
    "#3 using list comprehension "
   ]
  },
  {
   "cell_type": "markdown",
   "metadata": {},
   "source": [
    "#1 Without using map, filter lambda or list comprehension"
   ]
  },
  {
   "cell_type": "code",
   "execution_count": 29,
   "metadata": {},
   "outputs": [
    {
     "name": "stdout",
     "output_type": "stream",
     "text": [
      "8\n"
     ]
    }
   ],
   "source": [
    "def generate_email_addresses(sap_ids):\n",
    "    emails = []\n",
    "    \n",
    "    for sap_id in sap_ids:\n",
    "        emails.append(f\"{sap_id}@stu.upes.ac.in\")\n",
    "        return emails\n",
    "    \n",
    "    sap_ids = [59008688, 999999]\n",
    "    result =  generate_email_addresses(sap_ids)\n",
    "print(result)"
   ]
  },
  {
   "cell_type": "markdown",
   "metadata": {},
   "source": [
    "#2 Using map. filter, lambda without using list comprehension"
   ]
  },
  {
   "cell_type": "code",
   "execution_count": 30,
   "metadata": {},
   "outputs": [
    {
     "name": "stdout",
     "output_type": "stream",
     "text": [
      "['5099999@stu.upes.ac.in', '909090@stu.upes.ac.in']\n"
     ]
    }
   ],
   "source": [
    "def genemail(sap_ids):\n",
    "    return list(map(lambda sap_id: f\"{sap_id}@stu.upes.ac.in\", sap_ids))\n",
    "\n",
    "sap_ids = [5099999, 909090]\n",
    "result = genemail(sap_ids)\n",
    "print(result)"
   ]
  },
  {
   "cell_type": "markdown",
   "metadata": {},
   "source": [
    "#3 Using List comprehension"
   ]
  },
  {
   "cell_type": "code",
   "execution_count": 32,
   "metadata": {},
   "outputs": [
    {
     "name": "stdout",
     "output_type": "stream",
     "text": [
      "enter no of element :2\n",
      "enter SAP ID :590017412\n",
      "enter SAP ID :590017413\n",
      "['590017412@stu.upes.ac.in', '590017413@stu.upes.ac.in']\n"
     ]
    }
   ],
   "source": [
    "def generate_emails_addresses(sap_ids):\n",
    "    emails = []\n",
    "    for sap_id in sap_ids:\n",
    "    \n",
    "        email = sap_id + \"@stu.upes.ac.in\"\n",
    "        emails.append(email)\n",
    "    return emails\n",
    "\n",
    " #Using List Comprehension \n",
    " \n",
    "Sap=[]\n",
    "n=int(input(\"enter no of element :\"))\n",
    "for i in range(n):\n",
    "    id=input(\"enter SAP ID :\")\n",
    "    Sap.append(id)\n",
    "\n",
    "print(generate_emails_addresses(Sap))"
   ]
  },
  {
   "cell_type": "code",
   "execution_count": null,
   "metadata": {},
   "outputs": [],
   "source": [
    "\n"
   ]
  }
 ],
 "metadata": {
  "kernelspec": {
   "display_name": "Python 3 (ipykernel)",
   "language": "python",
   "name": "python3"
  },
  "language_info": {
   "codemirror_mode": {
    "name": "ipython",
    "version": 3
   },
   "file_extension": ".py",
   "mimetype": "text/x-python",
   "name": "python",
   "nbconvert_exporter": "python",
   "pygments_lexer": "ipython3",
   "version": "3.11.4"
  }
 },
 "nbformat": 4,
 "nbformat_minor": 2
}
